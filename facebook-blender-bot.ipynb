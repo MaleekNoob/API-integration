{
 "cells": [
  {
   "cell_type": "code",
   "execution_count": null,
   "metadata": {},
   "outputs": [],
   "source": [
    "# Load model directly\n",
    "from transformers import AutoTokenizer, AutoModelForSeq2SeqLM\n",
    "\n",
    "tokenizer = AutoTokenizer.from_pretrained(\"facebook/blenderbot_small-90M\")\n",
    "model = AutoModelForSeq2SeqLM.from_pretrained(\"facebook/blenderbot_small-90M\")"
   ]
  },
  {
   "cell_type": "code",
   "execution_count": null,
   "metadata": {},
   "outputs": [],
   "source": [
    "# Example conversation\n",
    "conversation_history = [\n",
    "    {'role': 'system', 'content': 'You are a helpful assistant.'},\n",
    "    {'role': 'user', 'content': 'Tell me a joke.'},\n",
    "    {'role': 'assistant', 'content': 'Why did the chicken cross the road?'},\n",
    "    {'role': 'user', 'content': 'I don’t know. Why did the chicken cross the road?'}\n",
    "]\n",
    "\n",
    "# Tokenize the conversation history\n",
    "input_ids = tokenizer.encode(conversation_history, return_tensors='pt')\n",
    "\n",
    "# Generate a response\n",
    "output = model.generate(input_ids)\n",
    "\n",
    "# Decode the generated response\n",
    "response = tokenizer.decode(output[0], skip_special_tokens=True)\n",
    "\n",
    "print(\"Generated Response:\", response)"
   ]
  }
 ],
 "metadata": {
  "kernelspec": {
   "display_name": "Python 3",
   "language": "python",
   "name": "python3"
  },
  "language_info": {
   "codemirror_mode": {
    "name": "ipython",
    "version": 3
   },
   "file_extension": ".py",
   "mimetype": "text/x-python",
   "name": "python",
   "nbconvert_exporter": "python",
   "pygments_lexer": "ipython3",
   "version": "3.10.11"
  }
 },
 "nbformat": 4,
 "nbformat_minor": 2
}
