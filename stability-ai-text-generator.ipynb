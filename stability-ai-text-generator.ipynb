{
 "cells": [
  {
   "cell_type": "code",
   "execution_count": 2,
   "metadata": {},
   "outputs": [],
   "source": [
    "import tensorflow as tf"
   ]
  },
  {
   "cell_type": "code",
   "execution_count": null,
   "metadata": {},
   "outputs": [],
   "source": [
    "from transformers_modules.stabilityai.stable_code_3b import TFAutoModelForStableCode3b\n",
    "from transformers import AutoTokenizer\n",
    "\n",
    "# Load the tokenizer and model\n",
    "tokenizer = AutoTokenizer.from_pretrained(\n",
    "    \"stabilityai/stable-code-3b\", trust_remote_code=True)\n",
    "model = TFAutoModelForStableCode3b.from_pretrained(\n",
    "    \"stabilityai/stable-code-3b\", trust_remote_code=True)\n",
    "\n",
    "# Example input text\n",
    "input_text = \"import torch\\nimport torch.nn as nn\"\n",
    "\n",
    "# Tokenize the input\n",
    "inputs = tokenizer(input_text, return_tensors=\"tf\")\n",
    "\n",
    "# Generate text using the model\n",
    "tokens = model.generate(**inputs, max_new_tokens=48,\n",
    "                        temperature=0.2, do_sample=True)\n",
    "\n",
    "# Decode and print the generated text\n",
    "generated_text = tokenizer.decode(tokens[0], skip_special_tokens=True)\n",
    "print(generated_text)"
   ]
  }
 ],
 "metadata": {
  "kernelspec": {
   "display_name": "Python 3",
   "language": "python",
   "name": "python3"
  },
  "language_info": {
   "codemirror_mode": {
    "name": "ipython",
    "version": 3
   },
   "file_extension": ".py",
   "mimetype": "text/x-python",
   "name": "python",
   "nbconvert_exporter": "python",
   "pygments_lexer": "ipython3",
   "version": "3.10.11"
  }
 },
 "nbformat": 4,
 "nbformat_minor": 2
}
