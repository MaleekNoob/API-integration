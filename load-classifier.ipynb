{
 "cells": [
  {
   "cell_type": "code",
   "execution_count": null,
   "metadata": {},
   "outputs": [],
   "source": [
    "# load classifier\n",
    "from transformers import pipeline\n",
    "classifier = pipeline('zero-shot-classification', model='./classifier')"
   ]
  },
  {
   "cell_type": "code",
   "execution_count": null,
   "metadata": {},
   "outputs": [],
   "source": [
    "text = \"This is a course about the Transformers library\"\n",
    "candidate_labels = [\"education\", \"politics\", \"business\"]\n",
    "output = classifier(text, candidate_labels)\n",
    "\n",
    "intent = output[\"labels\"][0]\n",
    "confidence = output[\"scores\"][0] * 100\n",
    "confidence = round(confidence, 2)\n",
    "\n",
    "print(\"Intent: \", intent)\n",
    "print(\"Confidence: \", confidence, \"%\")"
   ]
  }
 ],
 "metadata": {
  "kernelspec": {
   "display_name": "Python 3",
   "language": "python",
   "name": "python3"
  },
  "language_info": {
   "codemirror_mode": {
    "name": "ipython",
    "version": 3
   },
   "file_extension": ".py",
   "mimetype": "text/x-python",
   "name": "python",
   "nbconvert_exporter": "python",
   "pygments_lexer": "ipython3",
   "version": "3.10.11"
  }
 },
 "nbformat": 4,
 "nbformat_minor": 2
}
