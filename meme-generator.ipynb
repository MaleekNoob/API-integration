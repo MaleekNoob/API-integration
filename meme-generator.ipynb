{
 "cells": [
  {
   "cell_type": "code",
   "execution_count": 1,
   "metadata": {},
   "outputs": [],
   "source": [
    "import requests\n",
    "import json"
   ]
  },
  {
   "cell_type": "code",
   "execution_count": 3,
   "metadata": {},
   "outputs": [],
   "source": [
    "def fetch_memes(subreddit: str, count: int = 2) -> list:\n",
    "    \"\"\"\n",
    "    Fetch wholesome memes from the meme-api\n",
    "    Args:\n",
    "        count (int): Number of memes to fetch (default: 2)\n",
    "    Returns:\n",
    "        list: List of meme dictionaries containing urls and other info\n",
    "    \"\"\"\n",
    "    url = f\"https://meme-api.com/gimme/{subreddit}/{count}\"\n",
    "    \n",
    "    try:\n",
    "        response = requests.get(url)\n",
    "        response.raise_for_status()  # Raise an exception for bad status codes\n",
    "        \n",
    "        data = response.json()\n",
    "        print(data)\n",
    "\n",
    "        memes = data.get('memes', [])\n",
    "        \n",
    "        # Print meme information\n",
    "        for i, meme in enumerate(memes, 1):\n",
    "            print(f\"\\nMeme {i}:\")\n",
    "            print(f\"Title: {meme.get('title')}\")\n",
    "            print(f\"URL: {meme.get('url')}\")\n",
    "            print(f\"Subreddit: {meme.get('subreddit')}\")\n",
    "            print(f\"Author: {meme.get('author')}\")\n",
    "            \n",
    "        return memes\n",
    "        \n",
    "    except requests.exceptions.RequestException as e:\n",
    "        print(f\"Error fetching memes: {e}\")\n",
    "        return []"
   ]
  },
  {
   "cell_type": "code",
   "execution_count": 7,
   "metadata": {},
   "outputs": [
    {
     "name": "stdout",
     "output_type": "stream",
     "text": [
      "{'count': 2, 'memes': [{'postLink': 'https://redd.it/1h1tcje', 'subreddit': 'wholesomememes', 'title': 'Remember to water your dream and and take care of it with patience and effort', 'url': 'https://i.redd.it/grmndv2cgm3e1.png', 'nsfw': False, 'spoiler': False, 'author': 'WaffleTheLittleFox', 'ups': 924, 'preview': ['https://preview.redd.it/grmndv2cgm3e1.png?width=108&crop=smart&auto=webp&s=c5e497d736d837f9ac03728b7d3b6a6358b66dff', 'https://preview.redd.it/grmndv2cgm3e1.png?width=216&crop=smart&auto=webp&s=13a2bc8d883d0d7e8f8636cac54bb2eb2f81e0f8', 'https://preview.redd.it/grmndv2cgm3e1.png?width=320&crop=smart&auto=webp&s=dfe4531e40d409cf09d62974387862c640a5395e', 'https://preview.redd.it/grmndv2cgm3e1.png?width=640&crop=smart&auto=webp&s=bb9b234d3a1c083c31602c5e11faa1f9d75b5171', 'https://preview.redd.it/grmndv2cgm3e1.png?width=960&crop=smart&auto=webp&s=27b121523766308c63fbc29b6ed2453617f74c0f', 'https://preview.redd.it/grmndv2cgm3e1.png?width=1080&crop=smart&auto=webp&s=15c98629cb2fcc866fff0fc0fd8abb93d24251fa']}, {'postLink': 'https://redd.it/1gmm8mv', 'subreddit': 'wholesomememes', 'title': 'In the darkest of times, a little hope shines bright', 'url': 'https://i.redd.it/wv354nf3dpzd1.gif', 'nsfw': False, 'spoiler': False, 'author': 'literallyeveryfandom', 'ups': 2028, 'preview': ['https://preview.redd.it/wv354nf3dpzd1.gif?width=108&crop=smart&format=png8&s=c0bd3867567e5c81d15ca3401f08f628d892ec0e', 'https://preview.redd.it/wv354nf3dpzd1.gif?width=216&crop=smart&format=png8&s=2ea80dd60231ce605c3fe08d2ebf615f85efaf91', 'https://preview.redd.it/wv354nf3dpzd1.gif?width=320&crop=smart&format=png8&s=91fb8ba61833fa13511903bfb7905ea3fe8b53a4', 'https://preview.redd.it/wv354nf3dpzd1.gif?width=640&crop=smart&format=png8&s=f7fb243050301441a866867beda3d84c69039125', 'https://preview.redd.it/wv354nf3dpzd1.gif?width=960&crop=smart&format=png8&s=8be345d6c5f723bdd5e7214668594e65b81eab30', 'https://preview.redd.it/wv354nf3dpzd1.gif?width=1080&crop=smart&format=png8&s=47b346f28ff83b8153fe5838934b4cc44dc792eb']}]}\n",
      "\n",
      "Meme 1:\n",
      "Title: Remember to water your dream and and take care of it with patience and effort\n",
      "URL: https://i.redd.it/grmndv2cgm3e1.png\n",
      "Subreddit: wholesomememes\n",
      "Author: WaffleTheLittleFox\n",
      "\n",
      "Meme 2:\n",
      "Title: In the darkest of times, a little hope shines bright\n",
      "URL: https://i.redd.it/wv354nf3dpzd1.gif\n",
      "Subreddit: wholesomememes\n",
      "Author: literallyeveryfandom\n",
      "{'postLink': 'https://redd.it/1h1tcje', 'subreddit': 'wholesomememes', 'title': 'Remember to water your dream and and take care of it with patience and effort', 'url': 'https://i.redd.it/grmndv2cgm3e1.png', 'nsfw': False, 'spoiler': False, 'author': 'WaffleTheLittleFox', 'ups': 924, 'preview': ['https://preview.redd.it/grmndv2cgm3e1.png?width=108&crop=smart&auto=webp&s=c5e497d736d837f9ac03728b7d3b6a6358b66dff', 'https://preview.redd.it/grmndv2cgm3e1.png?width=216&crop=smart&auto=webp&s=13a2bc8d883d0d7e8f8636cac54bb2eb2f81e0f8', 'https://preview.redd.it/grmndv2cgm3e1.png?width=320&crop=smart&auto=webp&s=dfe4531e40d409cf09d62974387862c640a5395e', 'https://preview.redd.it/grmndv2cgm3e1.png?width=640&crop=smart&auto=webp&s=bb9b234d3a1c083c31602c5e11faa1f9d75b5171', 'https://preview.redd.it/grmndv2cgm3e1.png?width=960&crop=smart&auto=webp&s=27b121523766308c63fbc29b6ed2453617f74c0f', 'https://preview.redd.it/grmndv2cgm3e1.png?width=1080&crop=smart&auto=webp&s=15c98629cb2fcc866fff0fc0fd8abb93d24251fa']}\n",
      "{'postLink': 'https://redd.it/1gmm8mv', 'subreddit': 'wholesomememes', 'title': 'In the darkest of times, a little hope shines bright', 'url': 'https://i.redd.it/wv354nf3dpzd1.gif', 'nsfw': False, 'spoiler': False, 'author': 'literallyeveryfandom', 'ups': 2028, 'preview': ['https://preview.redd.it/wv354nf3dpzd1.gif?width=108&crop=smart&format=png8&s=c0bd3867567e5c81d15ca3401f08f628d892ec0e', 'https://preview.redd.it/wv354nf3dpzd1.gif?width=216&crop=smart&format=png8&s=2ea80dd60231ce605c3fe08d2ebf615f85efaf91', 'https://preview.redd.it/wv354nf3dpzd1.gif?width=320&crop=smart&format=png8&s=91fb8ba61833fa13511903bfb7905ea3fe8b53a4', 'https://preview.redd.it/wv354nf3dpzd1.gif?width=640&crop=smart&format=png8&s=f7fb243050301441a866867beda3d84c69039125', 'https://preview.redd.it/wv354nf3dpzd1.gif?width=960&crop=smart&format=png8&s=8be345d6c5f723bdd5e7214668594e65b81eab30', 'https://preview.redd.it/wv354nf3dpzd1.gif?width=1080&crop=smart&format=png8&s=47b346f28ff83b8153fe5838934b4cc44dc792eb']}\n"
     ]
    }
   ],
   "source": [
    "if __name__ == \"__main__\":\n",
    "    # Fetch 2 wholesome memes\n",
    "    memes = fetch_memes(subreddit=\"wholesomememes\", count=2)\n",
    "    \n",
    "    # Display memes\n",
    "    for meme in memes:\n",
    "        print(meme)\n"
   ]
  }
 ],
 "metadata": {
  "kernelspec": {
   "display_name": "Python 3",
   "language": "python",
   "name": "python3"
  },
  "language_info": {
   "codemirror_mode": {
    "name": "ipython",
    "version": 3
   },
   "file_extension": ".py",
   "mimetype": "text/x-python",
   "name": "python",
   "nbconvert_exporter": "python",
   "pygments_lexer": "ipython3",
   "version": "3.12.3"
  }
 },
 "nbformat": 4,
 "nbformat_minor": 2
}
