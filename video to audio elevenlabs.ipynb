{
 "cells": [
  {
   "cell_type": "code",
   "execution_count": 22,
   "metadata": {},
   "outputs": [],
   "source": [
    "key = 'sk_78898f38896c4f426aef837a5b2ea45b92b70458a4f487ba'"
   ]
  },
  {
   "cell_type": "code",
   "execution_count": 23,
   "metadata": {},
   "outputs": [],
   "source": [
    "import requests"
   ]
  },
  {
   "cell_type": "code",
   "execution_count": 24,
   "metadata": {},
   "outputs": [],
   "source": [
    "CHUNK_SIZE = 1024\n",
    "url = \"https://api.elevenlabs.io/v1/text-to-speech/21m00Tcm4TlvDq8ikWAM\""
   ]
  },
  {
   "cell_type": "code",
   "execution_count": 28,
   "metadata": {},
   "outputs": [],
   "source": [
    "headers = {\n",
    "  \"Accept\": \"audio/mp3\",\n",
    "  \"Content-Type\": \"application/json\",\n",
    "  \"xi-api-key\": \"sk_78898f38896c4f426aef837a5b2ea45b92b70458a4f487ba\"\n",
    "}"
   ]
  },
  {
   "cell_type": "code",
   "execution_count": 29,
   "metadata": {},
   "outputs": [],
   "source": [
    "data = {\n",
    "  \"text\": '''\n",
    "  Dark Mode vs. Light Mode: A Deeper Dive into Design and User Experience\n",
    "This video explores the ongoing debate surrounding dark mode and light mode, questioning the commonly held beliefs about their advantages and disadvantages. The presenter, Sabrina, embarks on a quest to debunk the myths surrounding dark mode, using research and experiments to determine if it truly is superior to light mode.\n",
    "\n",
    "Pros of Dark Mode:\n",
    "\n",
    "Battery Life: Dark mode can extend battery life on OLED screens, which are becoming increasingly common in mobile devices. This is because darker colors require less power to display.\n",
    "Ergonomics in Dark Environments: Dark mode can be more comfortable to use in dimly lit conditions, reducing eye strain.\n",
    "Cons of Dark Mode:\n",
    "\n",
    "Readability: Research and Sabrina's own experiments suggest that light mode often leads to better readability, especially for text-heavy content. This is attributed to the higher brightness of light mode, which helps constrict pupils and improve vision.\n",
    "Eye Health: While dark mode can reduce blue light exposure, it might not significantly impact sleep quality. Additionally, using a phone in a dark room can actually strain your eyes because your pupils dilate, making it harder to focus. The best way to protect eye health is to limit screen time.\n",
    "The Real Issue: Design and Personalization\n",
    "\n",
    "Sabrina concludes that the debate surrounding dark mode and light mode is ultimately a moot point. Both modes have their pros and cons, but these differences are often marginal and highly dependent on individual circumstances.\n",
    "\n",
    "The video then shifts focus to the history of dark mode and its evolution. It reveals that dark mode was actually the original display mode for early computers, predating the shift to light mode, which became popular with the rise of GUI interfaces. This suggests that both modes were initially designed to cater to different user needs and experiences, rather than being seen as competing options.\n",
    "\n",
    "Sabrina argues that the current obsession with dark mode, particularly after Apple's adoption in 2018, is driven by a desire to offer a \"new\" feature, rather than a genuine concern for user experience. She criticizes the way companies have adopted dark mode without fully considering its implications for design and user needs.\n",
    "\n",
    "The Takeaway:\n",
    "\n",
    "The video concludes that the true winner in the dark mode vs. light mode debate is good design that prioritizes individual user needs and experiences. It highlights the importance of thoughtful design choices that consider factors beyond simple aesthetics or technical advantages. Ultimately, the choice between dark mode and light mode should be left to the user, allowing them to select the option that best suits their individual needs and preferences.\n",
    "  \n",
    "  ''',\n",
    "  \"model_id\": \"eleven_monolingual_v1\",\n",
    "  \"voice_settings\": {\n",
    "    \"stability\": 0.5,\n",
    "    \"similarity_boost\": 0.5\n",
    "  }\n",
    "}"
   ]
  },
  {
   "cell_type": "code",
   "execution_count": 31,
   "metadata": {},
   "outputs": [
    {
     "name": "stdout",
     "output_type": "stream",
     "text": [
      "b'{\"detail\":{\"status\":\"detected_unusual_activity\",\"message\":\"Unusual activity detected. Free Tier usage disabled. If you are using a proxy/VPN you might need to purchase a Paid Plan to not trigger our abuse detectors. Free Tier only works if users do not abuse it, for example by creating multiple free accounts. If we notice that many people try to abuse it, we will need to reconsider Free Tier altogether. \\\\nPlease play fair and purchase any Paid Subscription to continue.\"}}'\n"
     ]
    }
   ],
   "source": [
    "response = requests.post(url, json=data, headers=headers)\n",
    "for chunk in response.iter_content(chunk_size=CHUNK_SIZE):\n",
    "    print(chunk)\n"
   ]
  }
 ],
 "metadata": {
  "kernelspec": {
   "display_name": "Python 3",
   "language": "python",
   "name": "python3"
  },
  "language_info": {
   "codemirror_mode": {
    "name": "ipython",
    "version": 3
   },
   "file_extension": ".py",
   "mimetype": "text/x-python",
   "name": "python",
   "nbconvert_exporter": "python",
   "pygments_lexer": "ipython3",
   "version": "3.12.3"
  }
 },
 "nbformat": 4,
 "nbformat_minor": 2
}
